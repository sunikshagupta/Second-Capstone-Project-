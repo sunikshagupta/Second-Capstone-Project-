{
 "cells": [
  {
   "cell_type": "code",
   "execution_count": 584,
   "id": "f3de37cb-f576-4c85-b3c7-7f3851f6f402",
   "metadata": {},
   "outputs": [],
   "source": [
    "# importing libraries\n",
    "\n",
    "import pandas as pd\n",
    "import matplotlib.pyplot as plt\n",
    "import seaborn as sns\n",
    "import os\n",
    "# pd.set_option('max_columns', 100)"
   ]
  },
  {
   "cell_type": "code",
   "execution_count": null,
   "id": "14d170b1-a0fe-4b05-baa9-2cccce690d07",
   "metadata": {},
   "outputs": [],
   "source": [
    "# loading the house prices data \n",
    "house_price = pd.read_csv(\"D:/Data Science/SecondCapstoneProjectDS/house_prices.csv\")"
   ]
  },
  {
   "cell_type": "code",
   "execution_count": null,
   "id": "989d27fa-7f68-4d86-b8e5-efe16b7c8789",
   "metadata": {},
   "outputs": [],
   "source": [
    "# Filtering 20% of the data \n",
    "house_price_sample = house_price.sample(frac=0.2, random_state=42)\n",
    "house_price_sample.head()"
   ]
  },
  {
   "cell_type": "code",
   "execution_count": null,
   "id": "a4465001-f2c1-4c3a-bec0-98a50cc78376",
   "metadata": {},
   "outputs": [],
   "source": [
    "# checking the info of the data \n",
    "house_price_sample.info"
   ]
  },
  {
   "cell_type": "code",
   "execution_count": null,
   "id": "e212eb12-d640-482c-8fd8-8fa2aca69d7e",
   "metadata": {},
   "outputs": [],
   "source": [
    "# resetting the index to make it more understanding and clean \n",
    "df = house_price_sample.reset_index(drop=True)\n",
    "df.head()"
   ]
  },
  {
   "cell_type": "code",
   "execution_count": null,
   "id": "97acc5e4-ec16-48cb-8ddb-a4d63d261f95",
   "metadata": {},
   "outputs": [],
   "source": [
    "# Checking the list of columns in the data \n",
    "df.columns"
   ]
  },
  {
   "cell_type": "code",
   "execution_count": null,
   "id": "bbfe8d4b-51bd-467b-8d90-7b88bfd6d68f",
   "metadata": {},
   "outputs": [],
   "source": [
    "## Checking the Index in the data \n",
    "df.index"
   ]
  },
  {
   "cell_type": "markdown",
   "id": "2d4ee454-da47-499d-85f0-2476e5616fa5",
   "metadata": {},
   "source": [
    "df.reset_index(drop=True)"
   ]
  },
  {
   "cell_type": "code",
   "execution_count": null,
   "id": "e27e805b-48a8-49c4-9712-1b3ca409f66f",
   "metadata": {},
   "outputs": [],
   "source": [
    "# Checking the data types of our data frame \n",
    "df.dtypes"
   ]
  },
  {
   "cell_type": "raw",
   "id": "43c89a80-5f06-429c-978b-19dafebdd6ba",
   "metadata": {},
   "source": [
    "Columns named Price, PLot Area and Dimensions are float type. All other columns are object type. This takes us to the decision that we have to convert Amount, Carpet Area, bathroom to float type to make our data more clean and better"
   ]
  },
  {
   "cell_type": "code",
   "execution_count": null,
   "id": "f521737d-85e8-4873-b15d-7e589a3a4a1c",
   "metadata": {},
   "outputs": [],
   "source": [
    "# checking the number of values in each column by calling .count()\n",
    "df.count()"
   ]
  },
  {
   "cell_type": "raw",
   "id": "925d12d3-1480-4507-bcbd-4497b12e8e67",
   "metadata": {},
   "source": [
    "There is no value in Dimensions and Plot Area columns. We can drop these columns later. "
   ]
  },
  {
   "cell_type": "code",
   "execution_count": null,
   "id": "d9d0efa2-5fbb-4006-8686-d97b4b2c72d1",
   "metadata": {},
   "outputs": [],
   "source": [
    "# removing the rows where Amount is Call for Price\n",
    "df[df['Amount(in rupees)'] != 'Call for Price']"
   ]
  },
  {
   "cell_type": "code",
   "execution_count": null,
   "id": "7a051469-43d8-48e6-bff3-45af85ea0020",
   "metadata": {},
   "outputs": [],
   "source": [
    "# Creating a new column Currency with the lambda function from the Amount column. Extracting the Units from the Amount column\n",
    "df['Currency'] = df['Amount(in rupees)'].apply(lambda x: x.split()[1])"
   ]
  },
  {
   "cell_type": "code",
   "execution_count": null,
   "id": "b0d8ce83-ab95-4039-9190-d757e9411fdd",
   "metadata": {},
   "outputs": [],
   "source": [
    "# Creating a new column Value with the lambda function from the Amount column. Extracting the Value from the Amount Column\n",
    "df['Value'] = df['Amount(in rupees)'].apply(lambda x:x.split()[0])"
   ]
  },
  {
   "cell_type": "code",
   "execution_count": null,
   "id": "fd0db4d7-eb07-4025-b5b8-9c72bcfe4df8",
   "metadata": {},
   "outputs": [],
   "source": [
    "# removing the rows where value is Call \n",
    "df = df[df['Value'] != 'Call']"
   ]
  },
  {
   "cell_type": "code",
   "execution_count": null,
   "id": "ee8afcef-fbaf-4d35-a59d-26bcaa689049",
   "metadata": {},
   "outputs": [],
   "source": [
    "# Checking the type of the Value column we created and converting it to float\n",
    "df['Value'].dtypes\n",
    "df['Value'] = df['Value'].astype(float)\n",
    "# df.head()\n",
    "# %timeit df[\"product_AH\"] = df[[\"Age\", \"Height\"]].apply(lambda x,y: x['Age']*y['Height'], axis=1)"
   ]
  },
  {
   "cell_type": "code",
   "execution_count": null,
   "id": "69c84646-acdb-4c8f-b8a7-fc5e9584e276",
   "metadata": {},
   "outputs": [],
   "source": []
  },
  {
   "cell_type": "code",
   "execution_count": null,
   "id": "761c1cdb-92e2-4a73-95e5-6a435cf79690",
   "metadata": {},
   "outputs": [],
   "source": [
    "# converting the Value in one unit by creating a column named Amount in Crore \n",
    "df['Amount_in_Crore'] = df.apply(lambda x: x['Value'] if ['Currency'] == 'Cr' else x['Value'] / 100, axis = 1)"
   ]
  },
  {
   "cell_type": "code",
   "execution_count": null,
   "id": "aaa44820-7d73-4f88-870c-27f48cf7ac27",
   "metadata": {},
   "outputs": [],
   "source": [
    "# Replacing the units in Currency to Cr from Lac\n",
    "df['Currency'] = df['Currency'].replace('Lac', 'Cr')\n",
    "df.head()"
   ]
  },
  {
   "cell_type": "code",
   "execution_count": null,
   "id": "fe75b3eb-7a79-4c8e-be01-710ba16a1a27",
   "metadata": {},
   "outputs": [],
   "source": [
    "# checking the information given in Description column by calling .value_counts()\n",
    "df['Description'].value_counts()"
   ]
  },
  {
   "cell_type": "code",
   "execution_count": null,
   "id": "e1593400-bf14-4d05-ad77-ffdf0ac34c22",
   "metadata": {},
   "outputs": [],
   "source": [
    "# checking the information given in the Title column by calling value_counts ()\n",
    "df[df['Title'].str.contains('Dwarka')].Title.value_counts()"
   ]
  },
  {
   "cell_type": "code",
   "execution_count": null,
   "id": "f71c64e3-9a87-41ca-995a-dafc1aa758ed",
   "metadata": {},
   "outputs": [],
   "source": [
    "## extracting information from Title column and making a new \n",
    "df['BHK'] = df['Title'].apply(lambda x: x.split()[0])\n",
    "df.head()"
   ]
  },
  {
   "cell_type": "code",
   "execution_count": null,
   "id": "feafc2d0-f760-447c-8d0a-1d9c958332ab",
   "metadata": {},
   "outputs": [],
   "source": [
    "# skipping some columns \n",
    "df = df[[\n",
    "    # 'Index', 'Title', 'Description', 'Amount(in rupees)',\n",
    "       'Price (in rupees)', 'location', 'Carpet Area', 'Status', 'Floor',\n",
    "       'Transaction', 'Furnishing', 'facing', 'overlooking', 'Society',\n",
    "       'Bathroom', 'Balcony', 'Car Parking', 'Ownership', 'Super Area',\n",
    "       # 'Dimensions', 'Plot Area', 'Currency', 'Value', \n",
    "    'Amount_in_Crore', 'BHK']].copy()"
   ]
  },
  {
   "cell_type": "code",
   "execution_count": null,
   "id": "b3223ec7-08e9-45e4-860c-14ada47486ae",
   "metadata": {},
   "outputs": [],
   "source": [
    "# Checking the average null values in the data by calling isnull() and .sum()\n",
    "df.isnull().sum()"
   ]
  },
  {
   "cell_type": "code",
   "execution_count": null,
   "id": "e953209c-9b2e-4a58-94af-ed4f960c7da0",
   "metadata": {},
   "outputs": [],
   "source": [
    "df.describe()"
   ]
  },
  {
   "cell_type": "code",
   "execution_count": null,
   "id": "603d5637-be4e-4532-b2e0-48fb41726344",
   "metadata": {},
   "outputs": [],
   "source": [
    "df.dtypes"
   ]
  },
  {
   "cell_type": "code",
   "execution_count": null,
   "id": "5615f983-5198-4ebf-be87-93c7c37d5191",
   "metadata": {},
   "outputs": [],
   "source": [
    "df[df['Carpet Area'].str.contains('sqyrd', na=False)]['Carpet Area'].value_counts().head()\n",
    "# df[df['Carpet Area'].str.contains(\"sqyrd\", na=False)]['Carpet Area'].value_counts()"
   ]
  },
  {
   "cell_type": "code",
   "execution_count": null,
   "id": "b19d11a2-026e-4222-a0dc-24ed012f0804",
   "metadata": {},
   "outputs": [],
   "source": [
    "# replacing the missing values with 0 for now \n",
    "df['Carpet Area'].fillna(0, inplace=True)\n",
    "df['Carpet Area'].isnull().sum()"
   ]
  },
  {
   "cell_type": "code",
   "execution_count": null,
   "id": "e31d0330-d24a-4313-9e96-fa9659a79241",
   "metadata": {},
   "outputs": [],
   "source": [
    "#splitting the values and units of columm Carpet area \n",
    "df['Carpet Area'] = df['Carpet Area'].astype(str)\n",
    "df['Carpet Area (units)'] = df['Carpet Area'].apply(lambda x:x.split()[-1])\n",
    "df['Carpet Area (value)'] = df['Carpet Area'].apply(lambda x:x.split()[0])\n",
    "df.head()"
   ]
  },
  {
   "cell_type": "code",
   "execution_count": null,
   "id": "29c9b326-1482-481a-981f-4df40cee5b24",
   "metadata": {},
   "outputs": [],
   "source": [
    "# df['Carpet Area (in sqft)'] = df['Carpet Area (in sqft)'].astype(float)\n",
    "df['Carpet_Area_sqft'] = df.apply(lambda x: float(x['Carpet Area (value)']) if x['Carpet Area (units)'] == 'sqft' \n",
    "                                  else float(x['Carpet Area (value)']) * 9, axis = 1)\n",
    "df.head()"
   ]
  },
  {
   "cell_type": "code",
   "execution_count": null,
   "id": "8b196049-9cdd-4dba-ba43-12d3d4d812d5",
   "metadata": {},
   "outputs": [],
   "source": [
    "df['Carpet_Area_sqft']"
   ]
  },
  {
   "cell_type": "code",
   "execution_count": null,
   "id": "f8d21a44-870e-44fb-9df3-345dda49c2b2",
   "metadata": {},
   "outputs": [],
   "source": [
    "df[\"Carpet_Area_sqft\"].isnull().sum()"
   ]
  },
  {
   "cell_type": "code",
   "execution_count": null,
   "id": "d525da5b-24ee-44c6-8665-010fd015e85f",
   "metadata": {},
   "outputs": [],
   "source": [
    "# def convert_to_sqft(value):\n",
    "#     if 'sqft' in value:\n",
    "#         return float(value)\n",
    "#     elif 'sqyrd' in value:\n",
    "#         num = float(value)\n",
    "#         return num*9\n",
    "#     else:\n",
    "#         return None\n",
    "\n",
    "# df['Carpet Area (sqft)'] = df['Carpet Area'].apply(convert_to_sqft)\n",
    "# df['Carpet Area (sqft)'] = df.apply(lambda x: x['Carpet Area'] if ['Carpet Area'] == 'sqft' else x['Carpet Area'] * 9, axis = 1)\n",
    "# df['Carpet Area (sqft)'].value_counts()"
   ]
  },
  {
   "cell_type": "code",
   "execution_count": null,
   "id": "8f2306c6-fbcc-4b81-ae99-26036ed388ff",
   "metadata": {},
   "outputs": [],
   "source": [
    "# df[df['Carpet Area (sqft)'].str.contains('sqyrd', na = False)]['Carpet Area (sqft)'].value_counts().head(20)"
   ]
  },
  {
   "cell_type": "code",
   "execution_count": null,
   "id": "b2e86406-b3eb-44a5-9305-5e18911c0d4c",
   "metadata": {},
   "outputs": [],
   "source": [
    "df.columns"
   ]
  },
  {
   "cell_type": "code",
   "execution_count": null,
   "id": "853e554a-a255-4654-b646-95ca0a596f0f",
   "metadata": {},
   "outputs": [],
   "source": [
    "df = df.drop(['Carpet Area (units)', 'Carpet Area (value)'], axis=1)"
   ]
  },
  {
   "cell_type": "code",
   "execution_count": null,
   "id": "38bc38de-3d46-44bc-8aa8-d22fa26995fe",
   "metadata": {},
   "outputs": [],
   "source": [
    "df.head()"
   ]
  },
  {
   "cell_type": "code",
   "execution_count": null,
   "id": "b83d03d8-d7c4-4b3b-8607-cff872a25ed0",
   "metadata": {},
   "outputs": [],
   "source": [
    "df.dtypes"
   ]
  },
  {
   "cell_type": "code",
   "execution_count": null,
   "id": "df3c29a0-564e-403c-bf7b-88874aeda9b2",
   "metadata": {},
   "outputs": [],
   "source": [
    "df['Super Area'].value_counts()"
   ]
  },
  {
   "cell_type": "code",
   "execution_count": null,
   "id": "e1aec501-83cd-4159-a5b9-3d8292e8f963",
   "metadata": {},
   "outputs": [],
   "source": [
    "df['Car Parking'].value_counts()"
   ]
  },
  {
   "cell_type": "code",
   "execution_count": null,
   "id": "950f8d95-49a9-49fa-90d1-ad7d88926937",
   "metadata": {},
   "outputs": [],
   "source": [
    "df['BHK'] = pd.to_numeric(df['BHK'], errors='coerce')"
   ]
  },
  {
   "cell_type": "code",
   "execution_count": null,
   "id": "f99ac76c-b366-40f2-880c-a1de4d00f01c",
   "metadata": {},
   "outputs": [],
   "source": [
    "df['Bathroom'] = pd.to_numeric(df['Bathroom'], errors='coerce')"
   ]
  },
  {
   "cell_type": "code",
   "execution_count": null,
   "id": "403c0fdb-4d32-40e9-8c4e-768ac24d08bf",
   "metadata": {},
   "outputs": [],
   "source": [
    "df['Balcony'] = pd.to_numeric(df['Balcony'], errors='coerce')"
   ]
  },
  {
   "cell_type": "code",
   "execution_count": null,
   "id": "06602c39-dc63-46cd-bc19-020bcb557747",
   "metadata": {},
   "outputs": [],
   "source": [
    "df.dtypes"
   ]
  },
  {
   "cell_type": "code",
   "execution_count": null,
   "id": "797c0d10-d6c5-4ec6-b7f7-5953c2430508",
   "metadata": {},
   "outputs": [],
   "source": [
    "df.loc[df.duplicated()]"
   ]
  },
  {
   "cell_type": "code",
   "execution_count": null,
   "id": "4e19fde8-fc88-4b3e-a916-cb6824ea6799",
   "metadata": {},
   "outputs": [],
   "source": [
    "df.describe()"
   ]
  },
  {
   "cell_type": "code",
   "execution_count": null,
   "id": "73d0b59a-0f8f-4d85-bc9b-5ddeaab09548",
   "metadata": {},
   "outputs": [],
   "source": [
    "df.head()"
   ]
  },
  {
   "cell_type": "code",
   "execution_count": null,
   "id": "ab0931a9-dc45-4366-97a6-44b46c629f21",
   "metadata": {},
   "outputs": [],
   "source": [
    "df.groupby('location')['Price (in rupees)'].mean()"
   ]
  },
  {
   "cell_type": "code",
   "execution_count": null,
   "id": "769e6bac-012c-4f97-b127-5360675c7c0f",
   "metadata": {},
   "outputs": [],
   "source": [
    "plt.figure(figsize=(30, 8))\n",
    "sns.barplot(x='location', y='Price (in rupees)', data = df)\n",
    "plt.xticks(rotation = 90)\n",
    "plt.show"
   ]
  },
  {
   "cell_type": "code",
   "execution_count": null,
   "id": "b0dd28c3-7a81-4292-8848-c60b1d751527",
   "metadata": {},
   "outputs": [],
   "source": [
    "df.groupby('location')['Amount_in_Crore'].mean()"
   ]
  },
  {
   "cell_type": "code",
   "execution_count": null,
   "id": "0a3c5d4f-f20b-490d-92fa-9646e9cafc15",
   "metadata": {},
   "outputs": [],
   "source": [
    "plt.figure(figsize=(30, 8))\n",
    "sns.barplot(x='location', y='Amount_in_Crore', data=df)\n",
    "plt.xticks(rotation=90)\n",
    "plt.show"
   ]
  },
  {
   "cell_type": "code",
   "execution_count": null,
   "id": "fa5829d6-439b-475a-a5d6-7bc428ec3900",
   "metadata": {},
   "outputs": [],
   "source": [
    "df.groupby('BHK')['Amount_in_Crore'].mean()"
   ]
  },
  {
   "cell_type": "code",
   "execution_count": null,
   "id": "b2fb59fc-f2ba-4383-90ab-bf2756431050",
   "metadata": {},
   "outputs": [],
   "source": [
    "plt.figure(figsize=(30, 8))\n",
    "sns.barplot(x='BHK', y='Amount_in_Crore', data = df)\n",
    "plt.xticks(rotation=90)\n",
    "plt.show"
   ]
  },
  {
   "cell_type": "code",
   "execution_count": null,
   "id": "d9232637-c96a-4f0b-a139-b488ab5c8128",
   "metadata": {},
   "outputs": [],
   "source": [
    "plt.figure(figsize=(30, 8))\n",
    "sns.barplot(x='Bathroom', y='Amount_in_Crore', data = df)\n",
    "plt.xticks(rotation=90)\n",
    "plt.show"
   ]
  },
  {
   "cell_type": "code",
   "execution_count": null,
   "id": "3ed89867-161e-446f-ac22-f0d95be949c7",
   "metadata": {},
   "outputs": [],
   "source": [
    "plt.figure(figsize=(30, 8))\n",
    "sns.barplot(x='Balcony', y='Amount_in_Crore', data = df)\n",
    "plt.xticks(rotation=90)\n",
    "plt.show"
   ]
  },
  {
   "cell_type": "code",
   "execution_count": null,
   "id": "3b4faf26-1cba-479d-ac21-01878871e4d3",
   "metadata": {},
   "outputs": [],
   "source": [
    "plt.figure(figsize=(30, 8))\n",
    "sns.barplot(x='Car Parking', y='Amount_in_Crore', data = df)\n",
    "plt.xticks(rotation=90)\n",
    "plt.show"
   ]
  },
  {
   "cell_type": "code",
   "execution_count": null,
   "id": "247c0734-1995-4372-8f83-86ef4117387f",
   "metadata": {},
   "outputs": [],
   "source": [
    "# plt.figure(figsize=(30, 8))\n",
    "# sns.barplot(x='Super Area', y='Amount_in_Crore', data = df)\n",
    "# plt.xticks(rotation=90)\n",
    "# plt.show"
   ]
  },
  {
   "cell_type": "code",
   "execution_count": null,
   "id": "9981fb13-d2ed-48c2-8256-a1530587bb2a",
   "metadata": {},
   "outputs": [],
   "source": [
    "# plt.figure(figsize=(30, 8))\n",
    "# sns.barplot(x='Carpet Area (in sqft)', y='Amount_in_Crore', data = df)\n",
    "# plt.xticks(rotation=90)\n",
    "# plt.show"
   ]
  },
  {
   "cell_type": "code",
   "execution_count": null,
   "id": "c99644e2-b07b-4ae9-b7f5-da5b48fa5c0e",
   "metadata": {},
   "outputs": [],
   "source": [
    "df['Carpet_Area_sqft'].value_counts().plot(kind='hist')"
   ]
  },
  {
   "cell_type": "code",
   "execution_count": null,
   "id": "643ab4c3-a601-46d2-99a0-726ccd323254",
   "metadata": {},
   "outputs": [],
   "source": [
    "df['Super Area'].value_counts().plot(kind='hist')"
   ]
  },
  {
   "cell_type": "code",
   "execution_count": null,
   "id": "02c1f2ad-707e-4dad-b527-994409a17a76",
   "metadata": {},
   "outputs": [],
   "source": [
    "df.hist(figsize=(15, 10))\n",
    "plt.subplots_adjust(hspace=0.5)"
   ]
  },
  {
   "cell_type": "code",
   "execution_count": null,
   "id": "f7795221-527a-4e45-99a6-62ad4acb355c",
   "metadata": {},
   "outputs": [],
   "source": [
    "# ski_data.SkiableTerrain_ac[ski_data.SkiableTerrain_ac > 10000]\n",
    "df.Carpet_Area_sqft[df.Carpet_Area_sqft>100000].value_counts().head(10)"
   ]
  },
  {
   "cell_type": "code",
   "execution_count": null,
   "id": "bd0887b3-b3d8-4832-8575-3edddce44d8f",
   "metadata": {},
   "outputs": [],
   "source": [
    "df[df['Carpet_Area_sqft'] == 113134.0].Carpet_Area_sqft.value_counts()"
   ]
  },
  {
   "cell_type": "code",
   "execution_count": null,
   "id": "31699a0a-dbc5-4fc1-87cc-6868cf0fddd5",
   "metadata": {},
   "outputs": [],
   "source": [
    "df.head()"
   ]
  },
  {
   "cell_type": "code",
   "execution_count": null,
   "id": "9e3d5475-eea8-4908-ab24-2802a6b8bb07",
   "metadata": {},
   "outputs": [],
   "source": []
  }
 ],
 "metadata": {
  "kernelspec": {
   "display_name": "Python [conda env:base] *",
   "language": "python",
   "name": "conda-base-py"
  },
  "language_info": {
   "codemirror_mode": {
    "name": "ipython",
    "version": 3
   },
   "file_extension": ".py",
   "mimetype": "text/x-python",
   "name": "python",
   "nbconvert_exporter": "python",
   "pygments_lexer": "ipython3",
   "version": "3.12.7"
  }
 },
 "nbformat": 4,
 "nbformat_minor": 5
}
